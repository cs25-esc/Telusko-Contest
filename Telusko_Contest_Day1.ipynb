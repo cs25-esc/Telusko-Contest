{
  "nbformat": 4,
  "nbformat_minor": 0,
  "metadata": {
    "colab": {
      "provenance": []
    },
    "kernelspec": {
      "name": "python3",
      "display_name": "Python 3"
    },
    "language_info": {
      "name": "python"
    }
  },
  "cells": [
    {
      "cell_type": "markdown",
      "source": [
        "# ***Iterative method***"
      ],
      "metadata": {
        "id": "x0q-OPJBNjUd"
      }
    },
    {
      "cell_type": "code",
      "execution_count": 7,
      "metadata": {
        "colab": {
          "base_uri": "https://localhost:8080/"
        },
        "id": "YfSd0KOmMaC4",
        "outputId": "e3f57773-cfa1-4e33-880a-f1a34e498e6f"
      },
      "outputs": [
        {
          "output_type": "stream",
          "name": "stdout",
          "text": [
            "20\n",
            "3.126723527908325\n",
            "[1]\n",
            "[1, 1]\n",
            "[1, 2, 1]\n",
            "[1, 3, 3, 1]\n",
            "[1, 4, 6, 4, 1]\n",
            "[1, 5, 10, 10, 5, 1]\n",
            "[1, 6, 15, 20, 15, 6, 1]\n",
            "[1, 7, 21, 35, 35, 21, 7, 1]\n",
            "[1, 8, 28, 56, 70, 56, 28, 8, 1]\n",
            "[1, 9, 36, 84, 126, 126, 84, 36, 9, 1]\n",
            "[1, 10, 45, 120, 210, 252, 210, 120, 45, 10, 1]\n",
            "[1, 11, 55, 165, 330, 462, 462, 330, 165, 55, 11, 1]\n",
            "[1, 12, 66, 220, 495, 792, 924, 792, 495, 220, 66, 12, 1]\n",
            "[1, 13, 78, 286, 715, 1287, 1716, 1716, 1287, 715, 286, 78, 13, 1]\n",
            "[1, 14, 91, 364, 1001, 2002, 3003, 3432, 3003, 2002, 1001, 364, 91, 14, 1]\n",
            "[1, 15, 105, 455, 1365, 3003, 5005, 6435, 6435, 5005, 3003, 1365, 455, 105, 15, 1]\n",
            "[1, 16, 120, 560, 1820, 4368, 8008, 11440, 12870, 11440, 8008, 4368, 1820, 560, 120, 16, 1]\n",
            "[1, 17, 136, 680, 2380, 6188, 12376, 19448, 24310, 24310, 19448, 12376, 6188, 2380, 680, 136, 17, 1]\n",
            "[1, 18, 153, 816, 3060, 8568, 18564, 31824, 43758, 48620, 43758, 31824, 18564, 8568, 3060, 816, 153, 18, 1]\n",
            "[1, 19, 171, 969, 3876, 11628, 27132, 50388, 75582, 92378, 92378, 75582, 50388, 27132, 11628, 3876, 969, 171, 19, 1]\n"
          ]
        }
      ],
      "source": [
        "import time\n",
        "\n",
        "start = time.time()\n",
        "\n",
        "\n",
        "n = int(input())\n",
        "\n",
        "ans = []\n",
        "for i in range(n):\n",
        "    d = []\n",
        "    for j in range(i+1):\n",
        "        if j == 0 or j == i:\n",
        "            d.append(1)                                           # if it is a first and last index of a row we just append 1\n",
        "        else:\n",
        "            d.append(ans[-1][j-1] + ans[-1][j])                   # if it is not a first and last index of a row we append addition of previous column value and this column value of prevoius row\n",
        "    ans.append(d)\n",
        "\n",
        "end = time.time()\n",
        "\n",
        "print((end - start))    \n",
        "\n",
        "for i in ans:\n",
        "    print(i)"
      ]
    },
    {
      "cell_type": "markdown",
      "source": [
        "# ***Recursive method***"
      ],
      "metadata": {
        "id": "ifEKAe_SN--i"
      }
    },
    {
      "cell_type": "code",
      "source": [
        "import time\n",
        "\n",
        "start = time.time()\n",
        "\n",
        "\n",
        "def solve(i,j):\n",
        "    \n",
        "    if j == 0 or j == i:\n",
        "        return 1\n",
        "    else:\n",
        "        return solve(i-1 , j-1) + solve(i-1,j)\n",
        "        #return memoized[i][j]\n",
        "\n",
        "\n",
        "\n",
        "n = int(input())\n",
        "\n",
        "\n",
        "\n",
        "ans = []\n",
        "for i in range(n):\n",
        "    d = []\n",
        "    for j in range(i+1):\n",
        "        d.append(solve(i,j))\n",
        "    ans.append(d)\n",
        "\n",
        "end = time.time()\n",
        "\n",
        "print((end - start))\n",
        "    \n",
        "\n",
        "for i in ans:\n",
        "    print(i)"
      ],
      "metadata": {
        "colab": {
          "base_uri": "https://localhost:8080/"
        },
        "id": "o1Lx7Jp3MzK2",
        "outputId": "a4b5b8b3-d4f2-44db-971e-8eee45283f94"
      },
      "execution_count": 11,
      "outputs": [
        {
          "output_type": "stream",
          "name": "stdout",
          "text": [
            "20\n",
            "4.400288105010986\n",
            "[1]\n",
            "[1, 1]\n",
            "[1, 2, 1]\n",
            "[1, 3, 3, 1]\n",
            "[1, 4, 6, 4, 1]\n",
            "[1, 5, 10, 10, 5, 1]\n",
            "[1, 6, 15, 20, 15, 6, 1]\n",
            "[1, 7, 21, 35, 35, 21, 7, 1]\n",
            "[1, 8, 28, 56, 70, 56, 28, 8, 1]\n",
            "[1, 9, 36, 84, 126, 126, 84, 36, 9, 1]\n",
            "[1, 10, 45, 120, 210, 252, 210, 120, 45, 10, 1]\n",
            "[1, 11, 55, 165, 330, 462, 462, 330, 165, 55, 11, 1]\n",
            "[1, 12, 66, 220, 495, 792, 924, 792, 495, 220, 66, 12, 1]\n",
            "[1, 13, 78, 286, 715, 1287, 1716, 1716, 1287, 715, 286, 78, 13, 1]\n",
            "[1, 14, 91, 364, 1001, 2002, 3003, 3432, 3003, 2002, 1001, 364, 91, 14, 1]\n",
            "[1, 15, 105, 455, 1365, 3003, 5005, 6435, 6435, 5005, 3003, 1365, 455, 105, 15, 1]\n",
            "[1, 16, 120, 560, 1820, 4368, 8008, 11440, 12870, 11440, 8008, 4368, 1820, 560, 120, 16, 1]\n",
            "[1, 17, 136, 680, 2380, 6188, 12376, 19448, 24310, 24310, 19448, 12376, 6188, 2380, 680, 136, 17, 1]\n",
            "[1, 18, 153, 816, 3060, 8568, 18564, 31824, 43758, 48620, 43758, 31824, 18564, 8568, 3060, 816, 153, 18, 1]\n",
            "[1, 19, 171, 969, 3876, 11628, 27132, 50388, 75582, 92378, 92378, 75582, 50388, 27132, 11628, 3876, 969, 171, 19, 1]\n"
          ]
        }
      ]
    },
    {
      "cell_type": "markdown",
      "source": [
        "# ***Memoized method***"
      ],
      "metadata": {
        "id": "2Ck000k6OGzU"
      }
    },
    {
      "cell_type": "code",
      "source": [
        "import time\n",
        "\n",
        "start = time.time()\n",
        "\n",
        "\n",
        "def solve(i,j):\n",
        "    #print(i,j)\n",
        "    if memoized[i][j]:\n",
        "        return memoized[i][j]\n",
        "    else:\n",
        "        memoized[i][j] = solve(i-1 , j-1) + solve(i-1,j)\n",
        "        return memoized[i][j]\n",
        "\n",
        "\n",
        "\n",
        "n = int(input())\n",
        "\n",
        "memoized = []\n",
        "for i in range(n):\n",
        "    e = []\n",
        "    for j in range(i+1):\n",
        "        if j == 0 or j == i:\n",
        "            e.append(1)\n",
        "        else:\n",
        "            e.append(0)\n",
        "    memoized.append(e)    \n",
        "memoized[0][0] = 1\n",
        "\n",
        "ans = []\n",
        "for i in range(n):\n",
        "    d = []\n",
        "    for j in range(i+1):\n",
        "        d.append(solve(i,j))\n",
        "    ans.append(d)\n",
        "\n",
        "end = time.time()\n",
        "\n",
        "print((end - start))\n",
        "\n",
        "for i in ans:\n",
        "    print(i)"
      ],
      "metadata": {
        "colab": {
          "base_uri": "https://localhost:8080/"
        },
        "id": "IUKw2pndMzSj",
        "outputId": "c56b2727-9fc1-4232-8812-6f2c7a35bc7d"
      },
      "execution_count": 13,
      "outputs": [
        {
          "output_type": "stream",
          "name": "stdout",
          "text": [
            "20\n",
            "3.2637522220611572\n",
            "[1]\n",
            "[1, 1]\n",
            "[1, 2, 1]\n",
            "[1, 3, 3, 1]\n",
            "[1, 4, 6, 4, 1]\n",
            "[1, 5, 10, 10, 5, 1]\n",
            "[1, 6, 15, 20, 15, 6, 1]\n",
            "[1, 7, 21, 35, 35, 21, 7, 1]\n",
            "[1, 8, 28, 56, 70, 56, 28, 8, 1]\n",
            "[1, 9, 36, 84, 126, 126, 84, 36, 9, 1]\n",
            "[1, 10, 45, 120, 210, 252, 210, 120, 45, 10, 1]\n",
            "[1, 11, 55, 165, 330, 462, 462, 330, 165, 55, 11, 1]\n",
            "[1, 12, 66, 220, 495, 792, 924, 792, 495, 220, 66, 12, 1]\n",
            "[1, 13, 78, 286, 715, 1287, 1716, 1716, 1287, 715, 286, 78, 13, 1]\n",
            "[1, 14, 91, 364, 1001, 2002, 3003, 3432, 3003, 2002, 1001, 364, 91, 14, 1]\n",
            "[1, 15, 105, 455, 1365, 3003, 5005, 6435, 6435, 5005, 3003, 1365, 455, 105, 15, 1]\n",
            "[1, 16, 120, 560, 1820, 4368, 8008, 11440, 12870, 11440, 8008, 4368, 1820, 560, 120, 16, 1]\n",
            "[1, 17, 136, 680, 2380, 6188, 12376, 19448, 24310, 24310, 19448, 12376, 6188, 2380, 680, 136, 17, 1]\n",
            "[1, 18, 153, 816, 3060, 8568, 18564, 31824, 43758, 48620, 43758, 31824, 18564, 8568, 3060, 816, 153, 18, 1]\n",
            "[1, 19, 171, 969, 3876, 11628, 27132, 50388, 75582, 92378, 92378, 75582, 50388, 27132, 11628, 3876, 969, 171, 19, 1]\n"
          ]
        }
      ]
    },
    {
      "cell_type": "code",
      "source": [],
      "metadata": {
        "id": "O3W1WB0LMzVl"
      },
      "execution_count": null,
      "outputs": []
    },
    {
      "cell_type": "code",
      "source": [],
      "metadata": {
        "id": "wvwwFpYdMzYc"
      },
      "execution_count": null,
      "outputs": []
    }
  ]
}